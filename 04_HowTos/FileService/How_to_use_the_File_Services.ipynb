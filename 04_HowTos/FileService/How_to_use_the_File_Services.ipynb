{
 "cells": [
  {
   "cell_type": "code",
   "execution_count": 1,
   "metadata": {},
   "outputs": [],
   "source": [
    "__author__ = 'Mike Fitzpatrick <fitz@noao.edu>, Glenn Eychaner <geychaner@noao.edu>, Robert Nikutta <nikutta@noao.edu>, Alice Jacques <alice.jacques@noao.edu>'\n",
    "__version__ = '20200922' # yyyymmdd\n",
    "__datasets__ = ['sdss_dr14']\n",
    "__keywords__ = ['vospace','fits']"
   ]
  },
  {
   "cell_type": "markdown",
   "metadata": {},
   "source": [
    "# How to Use the Data Lab Public File Services\n",
    "\n",
    "*Revised:  Sept 22, 2020*"
   ]
  },
  {
   "cell_type": "markdown",
   "metadata": {},
   "source": [
    "### Table of contents\n",
    "* [Summary](#summary)\n",
    "* [Disclaimer & Attribution](#attribution)\n",
    "* [Imports & setup](#import)\n",
    "* [Listing another user's public file space](#listspace)\n",
    "* [Listing all available public file spaces](#listall)\n",
    "* [Example: using the **SDSS DR14** public file service](#exsdss)"
   ]
  },
  {
   "cell_type": "markdown",
   "metadata": {},
   "source": [
    "<a class=\"anchor\" id=\"summary\"></a>\n",
    "# Summary\n",
    "\n",
    "Files in the virtual storage VOSpace are usually identified via the prefix \"*vos://*\". This shorthand identifier is resolved to a user's home directory of the storage space in the service.  \n",
    "\n",
    "If the \"*vos://*\" prefix is instead the name of another user (e.g. \"*demo00://*\"), and the remainder of the path grants public or group read/write access, then the other user's spaces will be accessed. Most user spaces have a \"*/public*\" directory to facilitate file sharing (e.g. \"*demo00://public/foo.fits*\" will access the \"*public/foo.fits*\" file from user \"*demo00*\"). Users can make any file (or directory) public by moving it to (or creating a link in) their \"/public\" directory.\n",
    "\n",
    "**Public file services** are specially created areas where all files are world-readable, and are used for serving files from Data Lab datasets."
   ]
  },
  {
   "cell_type": "markdown",
   "metadata": {},
   "source": [
    "<a class=\"anchor\" id=\"attribution\"></a>\n",
    "# Disclaimer & Attribution\n",
    "\n",
    "If you use this notebook for your published science, please acknowledge the following:\n",
    "\n",
    "* Data Lab concept paper: Fitzpatrick et al., \"The NOAO Data Laboratory: a conceptual overview\", SPIE, 9149, 2014, https://dx.doi.org/10.1117/12.2057445\n",
    "\n",
    "* Data Lab disclaimer: https://datalab.noao.edu/disclaimers.php"
   ]
  },
  {
   "cell_type": "markdown",
   "metadata": {},
   "source": [
    "<a class=\"anchor\" id=\"import\"></a>\n",
    "# Imports & setup"
   ]
  },
  {
   "cell_type": "code",
   "execution_count": 2,
   "metadata": {},
   "outputs": [],
   "source": [
    "# Make matplotlib plot inline\n",
    "%matplotlib inline\n",
    "\n",
    "# Standard DL imports, note we only need storeClient\n",
    "from dl import storeClient as sc\n",
    "\n",
    "# 3rd Party Imports\n",
    "import io\n",
    "import numpy as np\n",
    "from matplotlib import pyplot as p\n",
    "from astropy.io import fits"
   ]
  },
  {
   "cell_type": "markdown",
   "metadata": {},
   "source": [
    "<a class=\"anchor\" id=\"listspace\"></a>\n",
    "# Listing another user's public file space\n",
    "We can view the contents of another user's public file space if we know their username."
   ]
  },
  {
   "cell_type": "code",
   "execution_count": 3,
   "metadata": {},
   "outputs": [
    {
     "name": "stdout",
     "output_type": "stream",
     "text": [
      "test2.csv       test3.csv       test6.csv        \n",
      "\n"
     ]
    }
   ],
   "source": [
    "print(sc.ls ('demo00://public',format='short'))"
   ]
  },
  {
   "cell_type": "markdown",
   "metadata": {},
   "source": [
    "<a class=\"anchor\" id=\"listall\"></a>\n",
    "# Listing all available public file spaces\n",
    "\n",
    "A 'file service' is a **public** vospace, readable by all users. The *sc.services()* function allows a user to list all the available file services."
   ]
  },
  {
   "cell_type": "code",
   "execution_count": 4,
   "metadata": {},
   "outputs": [
    {
     "name": "stdout",
     "output_type": "stream",
     "text": [
      "\n",
      "                    name   svc   description\n",
      "                --------   ----  --------\n",
      "                 chandra   vos   ChaMPlane: Measuring the Faint X-ray Bin ...\n",
      "             cosmic_dawn   vos   Cosmic DAWN survey\n",
      "               deeprange   vos   Deeprange Survey\n",
      "           deep_ecliptic   vos   Deep Ecliptic Survey\n",
      "                     dls   vos   Deep Lens Survey\n",
      "                  flamex   vos   FLAMINGOS Extragalactic Survey\n",
      "                     fls   vos   First Look Survey\n",
      "                    fsvs   vos   Faint Sky Variability Survey\n",
      "               ir_bootes   vos   Infrared Bootes Imaging Survey\n",
      "                     lgs   vos   Local Group Survey\n",
      "             gogreen_dr1   vos   GOGREEN DR1 Survey\n",
      "                     lmc   vos   SuperMACHO Survey\n",
      "                  ls_dr1   vos   DECam Legacy Survey DR1\n",
      "                  ls_dr2   vos   DECam Legacy Survey DR2\n",
      "                  ls_dr3   vos   DECam Legacy Survey DR3\n",
      "                  ls_dr4   vos   DECam Legacy Survey DR4\n",
      "                  ls_dr5   vos   DECam Legacy Survey DR5\n",
      "                  ls_dr6   vos   DECam Legacy Survey DR6\n",
      "                  ls_dr7   vos   DECam Legacy Survey DR7\n",
      "                  ls_dr8   vos   DECam Legacy Survey DR8\n",
      "             m31_newfirm   vos   M31 NEWFIRM Survey\n",
      "                   ndwfs   vos   NOAO Deep-Wide Survey\n",
      "                     nfp   vos   NOAO Fundamental Plane Survey\n",
      "                    nmbs   vos   NEWFIRM Medium Band Survey\n",
      "                  nmbs_2   vos   NEWFIRM Medium Band Survey II\n",
      "                     nsc   vos   NOAO Source Catalog\n",
      "                sdss_dr8   vos   SDSS DR8\n",
      "                sdss_dr9   vos   SDSS DR9\n",
      "               sdss_dr10   vos   SDSS DR10\n",
      "               sdss_dr11   vos   SDSS DR11\n",
      "               sdss_dr12   vos   SDSS DR12\n",
      "               sdss_dr13   vos   SDSS DR13\n",
      "               sdss_dr14   vos   SDSS DR14\n",
      "               sdss_dr15   vos   SDSS DR15\n",
      "               sdss_dr16   vos   SDSS DR16\n",
      "                   singg   vos   Survey for Ionization in Neutral-Gas Gal ...\n",
      "               smash_dr1   vos   SMASH DR1\n",
      "               smash_dr2   vos   SMASH DR2\n",
      "                     sze   vos   SZE+Optical Studies of the Cosmic Accele ...\n",
      "               w_project   vos   The w Project\n",
      "                 zbootes   vos   z-band Photometry of the NOAO Deep-Wide  ...\n",
      "\n"
     ]
    }
   ],
   "source": [
    "print(sc.services())"
   ]
  },
  {
   "cell_type": "markdown",
   "metadata": {},
   "source": [
    "<a class=\"anchor\" id=\"exsdss\"></a>\n",
    "\n",
    "# An example using the **SDSS DR14** public file service.\n",
    "\n",
    "We can explore the contents of a particular public file space using the *sc.ls* function:  "
   ]
  },
  {
   "cell_type": "code",
   "execution_count": 5,
   "metadata": {},
   "outputs": [
    {
     "name": "stdout",
     "output_type": "stream",
     "text": [
      "apo,apogee,eboss,env,manga,marvels,sdss\n"
     ]
    }
   ],
   "source": [
    "print(sc.ls('sdss_dr14://'))"
   ]
  },
  {
   "cell_type": "markdown",
   "metadata": {},
   "source": [
    "We can delve deeper into a particular file by specifying the file name when we call the *sc.ls* function:"
   ]
  },
  {
   "cell_type": "code",
   "execution_count": 6,
   "metadata": {},
   "outputs": [
    {
     "name": "stdout",
     "output_type": "stream",
     "text": [
      "calib,elg,lss,lya,photo,photoObj,qso,resolve,spectro,spiders,sweeps,target\n"
     ]
    }
   ],
   "source": [
    "print(sc.ls ('sdss_dr14://eboss'))"
   ]
  },
  {
   "cell_type": "code",
   "execution_count": 7,
   "metadata": {},
   "outputs": [
    {
     "name": "stdout",
     "output_type": "stream",
     "text": [
      "data,firefly,redux\n"
     ]
    }
   ],
   "source": [
    "print(sc.ls ('sdss_dr14://eboss/spectro/'))"
   ]
  },
  {
   "cell_type": "code",
   "execution_count": 8,
   "metadata": {},
   "outputs": [
    {
     "name": "stdout",
     "output_type": "stream",
     "text": [
      "drw-rw----  sdss_dr14       0  14 Sep 2020 09:01  images\n",
      "lrw-rw----  sdss_dr14       0  14 Sep 2020 09:01  platelist-mjdsort.html\n",
      "lrw-rw----  sdss_dr14       0  14 Sep 2020 09:01  platelist-mjdsort.txt\n",
      "lrw-rw----  sdss_dr14       0  14 Sep 2020 09:01  platelist.fits\n",
      "lrw-rw----  sdss_dr14       0  14 Sep 2020 09:01  platelist.html\n",
      "lrw-rw----  sdss_dr14       0  14 Sep 2020 09:01  platelist.txt\n",
      "lrw-rw----  sdss_dr14       0  14 Sep 2020 09:01  platequality-mjdsort.html\n",
      "lrw-rw----  sdss_dr14       0  14 Sep 2020 09:01  platequality-mjdsort.txt\n",
      "lrw-rw----  sdss_dr14       0  14 Sep 2020 09:01  platequality.html\n",
      "lrw-rw----  sdss_dr14       0  14 Sep 2020 09:01  platequality.txt\n",
      "drw-rw----  sdss_dr14       0  14 Sep 2020 09:01  redmonster\n",
      "drw-rw----  sdss_dr14       0  14 Sep 2020 09:01  v5_10_0\n",
      "\n"
     ]
    }
   ],
   "source": [
    "print(sc.ls ('sdss_dr14://eboss/spectro/redux',format='long'))"
   ]
  },
  {
   "cell_type": "markdown",
   "metadata": {},
   "source": [
    "### Set base directory and plate number\n",
    "We can set the base directory and plate number of the object we want to look at:"
   ]
  },
  {
   "cell_type": "code",
   "execution_count": 9,
   "metadata": {},
   "outputs": [],
   "source": [
    "base = 'sdss_dr14://eboss/spectro/redux/v5_10_0/'\n",
    "plate = '3615'"
   ]
  },
  {
   "cell_type": "markdown",
   "metadata": {},
   "source": [
    "### List all available FITS plate files in the plate directory\n",
    "We can construct the VOSpace path to the plate directory:"
   ]
  },
  {
   "cell_type": "code",
   "execution_count": 10,
   "metadata": {},
   "outputs": [
    {
     "name": "stdout",
     "output_type": "stream",
     "text": [
      "spPlate-3615-55179.fits  spPlate-3615-55208.fits  spPlate-3615-55445.fits\n",
      "spPlate-3615-55856.fits  spPlate-3615-56219.fits  spPlate-3615-56544.fits\n",
      "\n"
     ]
    }
   ],
   "source": [
    "spPlate = base + plate + '/spPlate-' + plate\n",
    "print(sc.ls (spPlate + '*.fits', format='short'))"
   ]
  },
  {
   "cell_type": "markdown",
   "metadata": {},
   "source": [
    "### Pick a modified Julian date (mjd) and fiber\n",
    "With the mjd, we can construct the VOSpace path to the plate file. We then verify the path construction."
   ]
  },
  {
   "cell_type": "code",
   "execution_count": 11,
   "metadata": {},
   "outputs": [
    {
     "name": "stdout",
     "output_type": "stream",
     "text": [
      "File: sdss_dr14://eboss/spectro/redux/v5_10_0/3615/spPlate-3615-56544.fits\n",
      "spPlate-3615-56544.fits\n"
     ]
    }
   ],
   "source": [
    "mjd = '56544'\n",
    "fiber = 39\n",
    "\n",
    "spfile = spPlate + '-' + mjd + '.fits'\n",
    "print ('File: ' + spfile)\n",
    "print (sc.ls (spfile))"
   ]
  },
  {
   "cell_type": "markdown",
   "metadata": {},
   "source": [
    "### Now read the spectrum from the file and construct the wavelength array\n",
    "From this file we will also retrieve its header, flux, and inverse variance. "
   ]
  },
  {
   "cell_type": "code",
   "execution_count": 12,
   "metadata": {},
   "outputs": [
    {
     "name": "stdout",
     "output_type": "stream",
     "text": [
      "Length of wavelength array = 4645\n",
      "Length of flux array = 4645\n",
      "Length of ivar array = 4645\n"
     ]
    }
   ],
   "source": [
    "try:\n",
    "    with fits.open(sc.get(spfile, mode='fileobj')) as hdulist:\n",
    "        hdr = hdulist[0].header\n",
    "        flux = hdulist[0].data[fiber-1, :]\n",
    "        ivar = hdulist[1].data[fiber-1, :]\n",
    "except Exception as e:\n",
    "    raise ValueError(\"Could not find spPlate file for plate={0:s}, mjd={1:s}!\".format(plate, mjd))\n",
    "\n",
    "loglam = hdr['COEFF0'] + hdr['COEFF1']*np.arange(hdr['NAXIS1'], dtype=flux.dtype)\n",
    "wavelength = 10.0**loglam\n",
    "print(\"Length of wavelength array =\", len(wavelength))\n",
    "print(\"Length of flux array =\", len(flux))\n",
    "print(\"Length of ivar array =\", len(ivar))"
   ]
  },
  {
   "cell_type": "markdown",
   "metadata": {},
   "source": [
    "### Make a plot of the spectrum\n",
    "Here we plot the wavelength and ivar-corrected flux."
   ]
  },
  {
   "cell_type": "code",
   "execution_count": 13,
   "metadata": {
    "scrolled": false
   },
   "outputs": [
    {
     "data": {
      "text/plain": [
       "Text(0, 0.5, 'Flux')"
      ]
     },
     "execution_count": 13,
     "metadata": {},
     "output_type": "execute_result"
    },
    {
     "data": {
      "image/png": "[encoded data removed]",
      "text/plain": [
       "<Figure size 600x400 with 1 Axes>"
      ]
     },
     "metadata": {
      "needs_background": "light"
     },
     "output_type": "display_data"
    }
   ],
   "source": [
    "fig = p.figure(dpi=100)\n",
    "p.plot(wavelength, flux* (ivar > 0), 'k')\n",
    "p.xlabel('Wavelength [$\\mathrm{\\AA}$]')\n",
    "p.ylabel('Flux')"
   ]
  }
 ],
 "metadata": {
  "kernelspec": {
   "display_name": "Python 3",
   "language": "python",
   "name": "python3"
  },
  "language_info": {
   "codemirror_mode": {
    "name": "ipython",
    "version": 3
   },
   "file_extension": ".py",
   "mimetype": "text/x-python",
   "name": "python",
   "nbconvert_exporter": "python",
   "pygments_lexer": "ipython3",
   "version": "3.7.4"
  }
 },
 "nbformat": 4,
 "nbformat_minor": 2
}
